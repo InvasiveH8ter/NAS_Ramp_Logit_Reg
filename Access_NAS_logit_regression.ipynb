{
 "cells": [
  {
   "cell_type": "code",
   "execution_count": 1,
   "id": "4f41d0d3",
   "metadata": {},
   "outputs": [],
   "source": [
    "#Import required packages\n",
    "import pandas as pd\n",
    "import numpy as np\n",
    "import geopandas as gpd\n",
    "from sklearn.linear_model import LogisticRegression\n",
    "from sklearn.model_selection import train_test_split\n",
    "import seaborn as sns"
   ]
  },
  {
   "cell_type": "code",
   "execution_count": 2,
   "id": "8c1eda73",
   "metadata": {},
   "outputs": [],
   "source": [
    "## Import waterbody shapefile, Get lakes larger than .5 km squared, change to projected crs and slice to just the lake name and geometry\n",
    "MN_lakes = gpd.read_file('./data/MN_Lakes.shp')\n",
    "lake_mask = MN_lakes['areasqkm'] > .5\n",
    "lakes_filtered = MN_lakes.loc[lake_mask].to_crs(3857)\n",
    "lakes_gpd = lakes_filtered[['gnis_name', 'geometry']]"
   ]
  },
  {
   "cell_type": "code",
   "execution_count": 47,
   "id": "275ad49b",
   "metadata": {},
   "outputs": [
    {
     "data": {
      "text/html": [
       "<div>\n",
       "<style scoped>\n",
       "    .dataframe tbody tr th:only-of-type {\n",
       "        vertical-align: middle;\n",
       "    }\n",
       "\n",
       "    .dataframe tbody tr th {\n",
       "        vertical-align: top;\n",
       "    }\n",
       "\n",
       "    .dataframe thead th {\n",
       "        text-align: right;\n",
       "    }\n",
       "</style>\n",
       "<table border=\"1\" class=\"dataframe\">\n",
       "  <thead>\n",
       "    <tr style=\"text-align: right;\">\n",
       "      <th></th>\n",
       "      <th>gnis_name</th>\n",
       "      <th>geometry</th>\n",
       "    </tr>\n",
       "  </thead>\n",
       "  <tbody>\n",
       "    <tr>\n",
       "      <th>67</th>\n",
       "      <td>None</td>\n",
       "      <td>POLYGON Z ((-10856885.714 5611905.044 0.000, -...</td>\n",
       "    </tr>\n",
       "    <tr>\n",
       "      <th>71</th>\n",
       "      <td>None</td>\n",
       "      <td>POLYGON Z ((-10846493.805 5596544.408 0.000, -...</td>\n",
       "    </tr>\n",
       "    <tr>\n",
       "      <th>95</th>\n",
       "      <td>None</td>\n",
       "      <td>POLYGON Z ((-10803075.881 5468679.788 0.000, -...</td>\n",
       "    </tr>\n",
       "    <tr>\n",
       "      <th>99</th>\n",
       "      <td>Lake Tetonkaha</td>\n",
       "      <td>POLYGON Z ((-10798028.703 5533759.158 0.000, -...</td>\n",
       "    </tr>\n",
       "    <tr>\n",
       "      <th>118</th>\n",
       "      <td>East Clubhouse Lake</td>\n",
       "      <td>POLYGON Z ((-10753973.659 5765569.693 0.000, -...</td>\n",
       "    </tr>\n",
       "    <tr>\n",
       "      <th>...</th>\n",
       "      <td>...</td>\n",
       "      <td>...</td>\n",
       "    </tr>\n",
       "    <tr>\n",
       "      <th>204735</th>\n",
       "      <td>Michi Lake</td>\n",
       "      <td>POLYGON Z ((-9563193.093 6065331.032 0.000, -9...</td>\n",
       "    </tr>\n",
       "    <tr>\n",
       "      <th>204748</th>\n",
       "      <td>Otter Lake</td>\n",
       "      <td>POLYGON Z ((-9775162.858 6242182.320 0.000, -9...</td>\n",
       "    </tr>\n",
       "    <tr>\n",
       "      <th>204777</th>\n",
       "      <td>O'Brien Lake</td>\n",
       "      <td>POLYGON Z ((-9755923.477 6234260.786 0.000, -9...</td>\n",
       "    </tr>\n",
       "    <tr>\n",
       "      <th>204786</th>\n",
       "      <td>Cedar Lake</td>\n",
       "      <td>POLYGON Z ((-9555967.934 6061831.393 0.000, -9...</td>\n",
       "    </tr>\n",
       "    <tr>\n",
       "      <th>204947</th>\n",
       "      <td>Perch Lake</td>\n",
       "      <td>POLYGON Z ((-9923414.360 6145386.830 0.000, -9...</td>\n",
       "    </tr>\n",
       "  </tbody>\n",
       "</table>\n",
       "<p>4144 rows × 2 columns</p>\n",
       "</div>"
      ],
      "text/plain": [
       "                  gnis_name                                           geometry\n",
       "67                     None  POLYGON Z ((-10856885.714 5611905.044 0.000, -...\n",
       "71                     None  POLYGON Z ((-10846493.805 5596544.408 0.000, -...\n",
       "95                     None  POLYGON Z ((-10803075.881 5468679.788 0.000, -...\n",
       "99           Lake Tetonkaha  POLYGON Z ((-10798028.703 5533759.158 0.000, -...\n",
       "118     East Clubhouse Lake  POLYGON Z ((-10753973.659 5765569.693 0.000, -...\n",
       "...                     ...                                                ...\n",
       "204735           Michi Lake  POLYGON Z ((-9563193.093 6065331.032 0.000, -9...\n",
       "204748           Otter Lake  POLYGON Z ((-9775162.858 6242182.320 0.000, -9...\n",
       "204777         O'Brien Lake  POLYGON Z ((-9755923.477 6234260.786 0.000, -9...\n",
       "204786           Cedar Lake  POLYGON Z ((-9555967.934 6061831.393 0.000, -9...\n",
       "204947           Perch Lake  POLYGON Z ((-9923414.360 6145386.830 0.000, -9...\n",
       "\n",
       "[4144 rows x 2 columns]"
      ]
     },
     "execution_count": 47,
     "metadata": {},
     "output_type": "execute_result"
    }
   ],
   "source": [
    "lakes_gpd"
   ]
  },
  {
   "cell_type": "code",
   "execution_count": 15,
   "id": "99b9a6da",
   "metadata": {},
   "outputs": [],
   "source": [
    "## Import Public Accesses shapefile, change to projected crs and slice to just the facility name and geometry\n",
    "access_df = gpd.read_file('./data/MN_accesses.shp')\n",
    "access_df_crs = access_df.to_crs(3857)\n",
    "my_accesses = access_df_crs[['FAC_NAME', 'geometry']]"
   ]
  },
  {
   "cell_type": "code",
   "execution_count": 16,
   "id": "d0d8f067",
   "metadata": {},
   "outputs": [],
   "source": [
    "#Spatial join Points to polygons/ Need to do by nearest because boat ramps might not intersect lake polygon\n",
    "#Use left join because we want to keep all the accesses and join them to the corresponding lake.\n",
    "accesses_with_lakes = gpd.sjoin_nearest(my_accesses, lakes_gpd, 'left', max_distance = 100) "
   ]
  },
  {
   "cell_type": "code",
   "execution_count": 18,
   "id": "6fae625e",
   "metadata": {},
   "outputs": [],
   "source": [
    "#Slice to what we need\n",
    "# Rename the columns so we can group by right index (Lake_ID) Using the waterbody original index to groupby \n",
    "#ensures we aren't combining the count for ramps from lakes with same name.\n",
    "accesses_with_lakes_df = pd.DataFrame(accesses_with_lakes[['FAC_NAME', 'index_right']]).rename(columns = {'FAC_NAME' : \"ramps\", 'index_right' : \"lake_ID\"})"
   ]
  },
  {
   "cell_type": "code",
   "execution_count": 19,
   "id": "465a68cd",
   "metadata": {},
   "outputs": [],
   "source": [
    "# Groupby lake ID and count ramps per lake\n",
    "ramps = pd.DataFrame(accesses_with_lakes_df.groupby(['lake_ID']).count())"
   ]
  },
  {
   "cell_type": "code",
   "execution_count": 46,
   "id": "0ddbc874",
   "metadata": {},
   "outputs": [
    {
     "data": {
      "text/html": [
       "<div>\n",
       "<style scoped>\n",
       "    .dataframe tbody tr th:only-of-type {\n",
       "        vertical-align: middle;\n",
       "    }\n",
       "\n",
       "    .dataframe tbody tr th {\n",
       "        vertical-align: top;\n",
       "    }\n",
       "\n",
       "    .dataframe thead th {\n",
       "        text-align: right;\n",
       "    }\n",
       "</style>\n",
       "<table border=\"1\" class=\"dataframe\">\n",
       "  <thead>\n",
       "    <tr style=\"text-align: right;\">\n",
       "      <th></th>\n",
       "      <th>FAC_NAME</th>\n",
       "      <th>geometry</th>\n",
       "      <th>index_right</th>\n",
       "      <th>gnis_name</th>\n",
       "    </tr>\n",
       "  </thead>\n",
       "  <tbody>\n",
       "    <tr>\n",
       "      <th>0</th>\n",
       "      <td>Pelican Lake, Jones Bay Public Water Access Site</td>\n",
       "      <td>POINT (-10487219.751 5868168.365)</td>\n",
       "      <td>92547.0</td>\n",
       "      <td>Pelican Lake</td>\n",
       "    </tr>\n",
       "    <tr>\n",
       "      <th>1</th>\n",
       "      <td>Pelican Lake (NW) Public Water Access Site</td>\n",
       "      <td>POINT (-10487726.486 5876205.240)</td>\n",
       "      <td>92547.0</td>\n",
       "      <td>Pelican Lake</td>\n",
       "    </tr>\n",
       "    <tr>\n",
       "      <th>2</th>\n",
       "      <td>Lower Hay Lake Public Water Access Site</td>\n",
       "      <td>POINT (-10495881.965 5886797.105)</td>\n",
       "      <td>190163.0</td>\n",
       "      <td>Lower Hay Lake</td>\n",
       "    </tr>\n",
       "    <tr>\n",
       "      <th>3</th>\n",
       "      <td>North Long Lake, Merrifield Public Water Acces...</td>\n",
       "      <td>POINT (-10483748.797 5855450.022)</td>\n",
       "      <td>162516.0</td>\n",
       "      <td>North Long Lake</td>\n",
       "    </tr>\n",
       "    <tr>\n",
       "      <th>4</th>\n",
       "      <td>Hubert Lake Public Water Access Site</td>\n",
       "      <td>POINT (-10495308.410 5858241.175)</td>\n",
       "      <td>18159.0</td>\n",
       "      <td>Lake Hubert</td>\n",
       "    </tr>\n",
       "    <tr>\n",
       "      <th>...</th>\n",
       "      <td>...</td>\n",
       "      <td>...</td>\n",
       "      <td>...</td>\n",
       "      <td>...</td>\n",
       "    </tr>\n",
       "    <tr>\n",
       "      <th>3008</th>\n",
       "      <td>Mississippi River, Sorenson Public Water Access</td>\n",
       "      <td>POINT (-10474542.438 5853165.895)</td>\n",
       "      <td>NaN</td>\n",
       "      <td>NaN</td>\n",
       "    </tr>\n",
       "    <tr>\n",
       "      <th>3009</th>\n",
       "      <td>Zumbro Lake, Fisherman Drive</td>\n",
       "      <td>POINT (-10293171.822 5493217.481)</td>\n",
       "      <td>97051.0</td>\n",
       "      <td>Zumbro Lake</td>\n",
       "    </tr>\n",
       "    <tr>\n",
       "      <th>3010</th>\n",
       "      <td>Pickerel Lake Public Water Access</td>\n",
       "      <td>POINT (-10619841.560 5920365.620)</td>\n",
       "      <td>NaN</td>\n",
       "      <td>NaN</td>\n",
       "    </tr>\n",
       "    <tr>\n",
       "      <th>3011</th>\n",
       "      <td>Roy Lake Public Water Access Site</td>\n",
       "      <td>POINT (-10638067.636 5995222.440)</td>\n",
       "      <td>58558.0</td>\n",
       "      <td>Roy Lake</td>\n",
       "    </tr>\n",
       "    <tr>\n",
       "      <th>3012</th>\n",
       "      <td>Bean Lake Public Water Access</td>\n",
       "      <td>POINT (-10163724.998 5992277.584)</td>\n",
       "      <td>NaN</td>\n",
       "      <td>NaN</td>\n",
       "    </tr>\n",
       "  </tbody>\n",
       "</table>\n",
       "<p>3013 rows × 4 columns</p>\n",
       "</div>"
      ],
      "text/plain": [
       "                                               FAC_NAME  \\\n",
       "0      Pelican Lake, Jones Bay Public Water Access Site   \n",
       "1            Pelican Lake (NW) Public Water Access Site   \n",
       "2               Lower Hay Lake Public Water Access Site   \n",
       "3     North Long Lake, Merrifield Public Water Acces...   \n",
       "4                  Hubert Lake Public Water Access Site   \n",
       "...                                                 ...   \n",
       "3008    Mississippi River, Sorenson Public Water Access   \n",
       "3009                       Zumbro Lake, Fisherman Drive   \n",
       "3010                  Pickerel Lake Public Water Access   \n",
       "3011                  Roy Lake Public Water Access Site   \n",
       "3012                      Bean Lake Public Water Access   \n",
       "\n",
       "                               geometry  index_right        gnis_name  \n",
       "0     POINT (-10487219.751 5868168.365)      92547.0     Pelican Lake  \n",
       "1     POINT (-10487726.486 5876205.240)      92547.0     Pelican Lake  \n",
       "2     POINT (-10495881.965 5886797.105)     190163.0   Lower Hay Lake  \n",
       "3     POINT (-10483748.797 5855450.022)     162516.0  North Long Lake  \n",
       "4     POINT (-10495308.410 5858241.175)      18159.0      Lake Hubert  \n",
       "...                                 ...          ...              ...  \n",
       "3008  POINT (-10474542.438 5853165.895)          NaN              NaN  \n",
       "3009  POINT (-10293171.822 5493217.481)      97051.0      Zumbro Lake  \n",
       "3010  POINT (-10619841.560 5920365.620)          NaN              NaN  \n",
       "3011  POINT (-10638067.636 5995222.440)      58558.0         Roy Lake  \n",
       "3012  POINT (-10163724.998 5992277.584)          NaN              NaN  \n",
       "\n",
       "[3013 rows x 4 columns]"
      ]
     },
     "execution_count": 46,
     "metadata": {},
     "output_type": "execute_result"
    }
   ],
   "source": [
    "accesses_with_lakes"
   ]
  },
  {
   "cell_type": "code",
   "execution_count": 20,
   "id": "ebb000a7",
   "metadata": {},
   "outputs": [],
   "source": [
    "# re-merge the ramps with the polygons \n",
    "ramps_df = gpd.GeoDataFrame(ramps.merge(lakes_gpd, left_index=True, right_index=True, how = 'right')).dropna()"
   ]
  },
  {
   "cell_type": "code",
   "execution_count": 22,
   "id": "dac8ec54",
   "metadata": {},
   "outputs": [],
   "source": [
    "# Import occurence records csv\n",
    "ZM_MN = pd.read_csv('./data/my_data.csv')"
   ]
  },
  {
   "cell_type": "code",
   "execution_count": 23,
   "id": "092ce605",
   "metadata": {},
   "outputs": [],
   "source": [
    "# Convert csv to GeoDataFrame using lat/long columns to create point geometries\n",
    "user_data_gdf = gpd.GeoDataFrame(\n",
    "    ZM_MN, geometry=gpd.points_from_xy(ZM_MN.longitude, ZM_MN.latitude))"
   ]
  },
  {
   "cell_type": "code",
   "execution_count": 24,
   "id": "dcc8bb8f",
   "metadata": {},
   "outputs": [],
   "source": [
    "# Fix the crs (for some reason we need to set to a random crs and then convert to the crs we want for this to work)\n",
    "user_data_gdf.set_crs(4326, inplace = True, allow_override=True)\n",
    "my_data = user_data_gdf.to_crs(3857)"
   ]
  },
  {
   "cell_type": "code",
   "execution_count": 25,
   "id": "82f7b0ab",
   "metadata": {},
   "outputs": [
    {
     "data": {
      "text/html": [
       "<div>\n",
       "<style scoped>\n",
       "    .dataframe tbody tr th:only-of-type {\n",
       "        vertical-align: middle;\n",
       "    }\n",
       "\n",
       "    .dataframe tbody tr th {\n",
       "        vertical-align: top;\n",
       "    }\n",
       "\n",
       "    .dataframe thead th {\n",
       "        text-align: right;\n",
       "    }\n",
       "</style>\n",
       "<table border=\"1\" class=\"dataframe\">\n",
       "  <thead>\n",
       "    <tr style=\"text-align: right;\">\n",
       "      <th></th>\n",
       "      <th>Unnamed: 0</th>\n",
       "      <th>commonname</th>\n",
       "      <th>state</th>\n",
       "      <th>latitude</th>\n",
       "      <th>longitude</th>\n",
       "      <th>year</th>\n",
       "      <th>status</th>\n",
       "      <th>accuracy</th>\n",
       "      <th>Present</th>\n",
       "      <th>geometry</th>\n",
       "    </tr>\n",
       "  </thead>\n",
       "  <tbody>\n",
       "    <tr>\n",
       "      <th>0</th>\n",
       "      <td>23</td>\n",
       "      <td>zebra mussel</td>\n",
       "      <td>Minnesota</td>\n",
       "      <td>46.746272</td>\n",
       "      <td>-92.124095</td>\n",
       "      <td>1989</td>\n",
       "      <td>established</td>\n",
       "      <td>Accurate</td>\n",
       "      <td>1</td>\n",
       "      <td>POINT (-10255207.345 5900757.097)</td>\n",
       "    </tr>\n",
       "    <tr>\n",
       "      <th>1</th>\n",
       "      <td>339</td>\n",
       "      <td>zebra mussel</td>\n",
       "      <td>Minnesota</td>\n",
       "      <td>43.993271</td>\n",
       "      <td>-91.443062</td>\n",
       "      <td>1992</td>\n",
       "      <td>established</td>\n",
       "      <td>Accurate</td>\n",
       "      <td>1</td>\n",
       "      <td>POINT (-10179395.079 5464400.895)</td>\n",
       "    </tr>\n",
       "    <tr>\n",
       "      <th>2</th>\n",
       "      <td>340</td>\n",
       "      <td>zebra mussel</td>\n",
       "      <td>Minnesota</td>\n",
       "      <td>44.098076</td>\n",
       "      <td>-91.707748</td>\n",
       "      <td>1992</td>\n",
       "      <td>established</td>\n",
       "      <td>Accurate</td>\n",
       "      <td>1</td>\n",
       "      <td>POINT (-10208859.855 5480632.215)</td>\n",
       "    </tr>\n",
       "    <tr>\n",
       "      <th>3</th>\n",
       "      <td>345</td>\n",
       "      <td>zebra mussel</td>\n",
       "      <td>Minnesota</td>\n",
       "      <td>44.160145</td>\n",
       "      <td>-91.810341</td>\n",
       "      <td>1992</td>\n",
       "      <td>established</td>\n",
       "      <td>Accurate</td>\n",
       "      <td>1</td>\n",
       "      <td>POINT (-10220280.396 5490258.500)</td>\n",
       "    </tr>\n",
       "    <tr>\n",
       "      <th>4</th>\n",
       "      <td>357</td>\n",
       "      <td>zebra mussel</td>\n",
       "      <td>Minnesota</td>\n",
       "      <td>44.610962</td>\n",
       "      <td>-92.610870</td>\n",
       "      <td>1992</td>\n",
       "      <td>established</td>\n",
       "      <td>Accurate</td>\n",
       "      <td>1</td>\n",
       "      <td>POINT (-10309394.931 5560481.929)</td>\n",
       "    </tr>\n",
       "    <tr>\n",
       "      <th>...</th>\n",
       "      <td>...</td>\n",
       "      <td>...</td>\n",
       "      <td>...</td>\n",
       "      <td>...</td>\n",
       "      <td>...</td>\n",
       "      <td>...</td>\n",
       "      <td>...</td>\n",
       "      <td>...</td>\n",
       "      <td>...</td>\n",
       "      <td>...</td>\n",
       "    </tr>\n",
       "    <tr>\n",
       "      <th>434</th>\n",
       "      <td>8097</td>\n",
       "      <td>zebra mussel</td>\n",
       "      <td>Minnesota</td>\n",
       "      <td>44.702140</td>\n",
       "      <td>-93.473200</td>\n",
       "      <td>2022</td>\n",
       "      <td>established</td>\n",
       "      <td>Accurate</td>\n",
       "      <td>1</td>\n",
       "      <td>POINT (-10405389.027 5574750.782)</td>\n",
       "    </tr>\n",
       "    <tr>\n",
       "      <th>435</th>\n",
       "      <td>8099</td>\n",
       "      <td>zebra mussel</td>\n",
       "      <td>Minnesota</td>\n",
       "      <td>46.451390</td>\n",
       "      <td>-95.552640</td>\n",
       "      <td>2022</td>\n",
       "      <td>established</td>\n",
       "      <td>Accurate</td>\n",
       "      <td>1</td>\n",
       "      <td>POINT (-10636871.229 5852982.217)</td>\n",
       "    </tr>\n",
       "    <tr>\n",
       "      <th>436</th>\n",
       "      <td>8100</td>\n",
       "      <td>zebra mussel</td>\n",
       "      <td>Minnesota</td>\n",
       "      <td>45.203610</td>\n",
       "      <td>-95.034590</td>\n",
       "      <td>2022</td>\n",
       "      <td>established</td>\n",
       "      <td>Accurate</td>\n",
       "      <td>1</td>\n",
       "      <td>POINT (-10579202.167 5653632.872)</td>\n",
       "    </tr>\n",
       "    <tr>\n",
       "      <th>437</th>\n",
       "      <td>8101</td>\n",
       "      <td>zebra mussel</td>\n",
       "      <td>Minnesota</td>\n",
       "      <td>46.646680</td>\n",
       "      <td>-94.230750</td>\n",
       "      <td>2022</td>\n",
       "      <td>established</td>\n",
       "      <td>Accurate</td>\n",
       "      <td>1</td>\n",
       "      <td>POINT (-10489719.107 5884592.741)</td>\n",
       "    </tr>\n",
       "    <tr>\n",
       "      <th>438</th>\n",
       "      <td>8104</td>\n",
       "      <td>zebra mussel</td>\n",
       "      <td>Minnesota</td>\n",
       "      <td>47.537470</td>\n",
       "      <td>-92.280930</td>\n",
       "      <td>2022</td>\n",
       "      <td>established</td>\n",
       "      <td>Accurate</td>\n",
       "      <td>1</td>\n",
       "      <td>POINT (-10272666.138 6030248.394)</td>\n",
       "    </tr>\n",
       "  </tbody>\n",
       "</table>\n",
       "<p>439 rows × 10 columns</p>\n",
       "</div>"
      ],
      "text/plain": [
       "     Unnamed: 0    commonname      state   latitude  longitude  year  \\\n",
       "0            23  zebra mussel  Minnesota  46.746272 -92.124095  1989   \n",
       "1           339  zebra mussel  Minnesota  43.993271 -91.443062  1992   \n",
       "2           340  zebra mussel  Minnesota  44.098076 -91.707748  1992   \n",
       "3           345  zebra mussel  Minnesota  44.160145 -91.810341  1992   \n",
       "4           357  zebra mussel  Minnesota  44.610962 -92.610870  1992   \n",
       "..          ...           ...        ...        ...        ...   ...   \n",
       "434        8097  zebra mussel  Minnesota  44.702140 -93.473200  2022   \n",
       "435        8099  zebra mussel  Minnesota  46.451390 -95.552640  2022   \n",
       "436        8100  zebra mussel  Minnesota  45.203610 -95.034590  2022   \n",
       "437        8101  zebra mussel  Minnesota  46.646680 -94.230750  2022   \n",
       "438        8104  zebra mussel  Minnesota  47.537470 -92.280930  2022   \n",
       "\n",
       "          status  accuracy  Present                           geometry  \n",
       "0    established  Accurate        1  POINT (-10255207.345 5900757.097)  \n",
       "1    established  Accurate        1  POINT (-10179395.079 5464400.895)  \n",
       "2    established  Accurate        1  POINT (-10208859.855 5480632.215)  \n",
       "3    established  Accurate        1  POINT (-10220280.396 5490258.500)  \n",
       "4    established  Accurate        1  POINT (-10309394.931 5560481.929)  \n",
       "..           ...       ...      ...                                ...  \n",
       "434  established  Accurate        1  POINT (-10405389.027 5574750.782)  \n",
       "435  established  Accurate        1  POINT (-10636871.229 5852982.217)  \n",
       "436  established  Accurate        1  POINT (-10579202.167 5653632.872)  \n",
       "437  established  Accurate        1  POINT (-10489719.107 5884592.741)  \n",
       "438  established  Accurate        1  POINT (-10272666.138 6030248.394)  \n",
       "\n",
       "[439 rows x 10 columns]"
      ]
     },
     "execution_count": 25,
     "metadata": {},
     "output_type": "execute_result"
    }
   ],
   "source": [
    "my_data"
   ]
  },
  {
   "cell_type": "code",
   "execution_count": 32,
   "id": "f3d9d49f",
   "metadata": {},
   "outputs": [],
   "source": [
    "# Join zm points to ramps layer\n",
    "positive_lakes = gpd.sjoin_nearest(my_data, ramps_df, how='left')"
   ]
  },
  {
   "cell_type": "code",
   "execution_count": 33,
   "id": "8f046418",
   "metadata": {},
   "outputs": [
    {
     "data": {
      "text/html": [
       "<div>\n",
       "<style scoped>\n",
       "    .dataframe tbody tr th:only-of-type {\n",
       "        vertical-align: middle;\n",
       "    }\n",
       "\n",
       "    .dataframe tbody tr th {\n",
       "        vertical-align: top;\n",
       "    }\n",
       "\n",
       "    .dataframe thead th {\n",
       "        text-align: right;\n",
       "    }\n",
       "</style>\n",
       "<table border=\"1\" class=\"dataframe\">\n",
       "  <thead>\n",
       "    <tr style=\"text-align: right;\">\n",
       "      <th></th>\n",
       "      <th>Unnamed: 0</th>\n",
       "      <th>commonname</th>\n",
       "      <th>state</th>\n",
       "      <th>latitude</th>\n",
       "      <th>longitude</th>\n",
       "      <th>year</th>\n",
       "      <th>status</th>\n",
       "      <th>accuracy</th>\n",
       "      <th>Present</th>\n",
       "      <th>geometry</th>\n",
       "      <th>index_right</th>\n",
       "      <th>ramps</th>\n",
       "      <th>gnis_name</th>\n",
       "    </tr>\n",
       "  </thead>\n",
       "  <tbody>\n",
       "    <tr>\n",
       "      <th>0</th>\n",
       "      <td>23</td>\n",
       "      <td>zebra mussel</td>\n",
       "      <td>Minnesota</td>\n",
       "      <td>46.746272</td>\n",
       "      <td>-92.124095</td>\n",
       "      <td>1989</td>\n",
       "      <td>established</td>\n",
       "      <td>Accurate</td>\n",
       "      <td>1</td>\n",
       "      <td>POINT (-10255207.345 5900757.097)</td>\n",
       "      <td>91696.0</td>\n",
       "      <td>27.0</td>\n",
       "      <td>Lake Superior</td>\n",
       "    </tr>\n",
       "    <tr>\n",
       "      <th>1</th>\n",
       "      <td>339</td>\n",
       "      <td>zebra mussel</td>\n",
       "      <td>Minnesota</td>\n",
       "      <td>43.993271</td>\n",
       "      <td>-91.443062</td>\n",
       "      <td>1992</td>\n",
       "      <td>established</td>\n",
       "      <td>Accurate</td>\n",
       "      <td>1</td>\n",
       "      <td>POINT (-10179395.079 5464400.895)</td>\n",
       "      <td>119168.0</td>\n",
       "      <td>3.0</td>\n",
       "      <td>Lake Winona</td>\n",
       "    </tr>\n",
       "    <tr>\n",
       "      <th>2</th>\n",
       "      <td>340</td>\n",
       "      <td>zebra mussel</td>\n",
       "      <td>Minnesota</td>\n",
       "      <td>44.098076</td>\n",
       "      <td>-91.707748</td>\n",
       "      <td>1992</td>\n",
       "      <td>established</td>\n",
       "      <td>Accurate</td>\n",
       "      <td>1</td>\n",
       "      <td>POINT (-10208859.855 5480632.215)</td>\n",
       "      <td>43558.0</td>\n",
       "      <td>2.0</td>\n",
       "      <td>Rileys Lake</td>\n",
       "    </tr>\n",
       "    <tr>\n",
       "      <th>3</th>\n",
       "      <td>345</td>\n",
       "      <td>zebra mussel</td>\n",
       "      <td>Minnesota</td>\n",
       "      <td>44.160145</td>\n",
       "      <td>-91.810341</td>\n",
       "      <td>1992</td>\n",
       "      <td>established</td>\n",
       "      <td>Accurate</td>\n",
       "      <td>1</td>\n",
       "      <td>POINT (-10220280.396 5490258.500)</td>\n",
       "      <td>43558.0</td>\n",
       "      <td>2.0</td>\n",
       "      <td>Rileys Lake</td>\n",
       "    </tr>\n",
       "    <tr>\n",
       "      <th>4</th>\n",
       "      <td>357</td>\n",
       "      <td>zebra mussel</td>\n",
       "      <td>Minnesota</td>\n",
       "      <td>44.610962</td>\n",
       "      <td>-92.610870</td>\n",
       "      <td>1992</td>\n",
       "      <td>established</td>\n",
       "      <td>Accurate</td>\n",
       "      <td>1</td>\n",
       "      <td>POINT (-10309394.931 5560481.929)</td>\n",
       "      <td>43916.0</td>\n",
       "      <td>1.0</td>\n",
       "      <td>Sturgeon Lake</td>\n",
       "    </tr>\n",
       "    <tr>\n",
       "      <th>...</th>\n",
       "      <td>...</td>\n",
       "      <td>...</td>\n",
       "      <td>...</td>\n",
       "      <td>...</td>\n",
       "      <td>...</td>\n",
       "      <td>...</td>\n",
       "      <td>...</td>\n",
       "      <td>...</td>\n",
       "      <td>...</td>\n",
       "      <td>...</td>\n",
       "      <td>...</td>\n",
       "      <td>...</td>\n",
       "      <td>...</td>\n",
       "    </tr>\n",
       "    <tr>\n",
       "      <th>434</th>\n",
       "      <td>8097</td>\n",
       "      <td>zebra mussel</td>\n",
       "      <td>Minnesota</td>\n",
       "      <td>44.702140</td>\n",
       "      <td>-93.473200</td>\n",
       "      <td>2022</td>\n",
       "      <td>established</td>\n",
       "      <td>Accurate</td>\n",
       "      <td>1</td>\n",
       "      <td>POINT (-10405389.027 5574750.782)</td>\n",
       "      <td>20066.0</td>\n",
       "      <td>1.0</td>\n",
       "      <td>Spring Lake</td>\n",
       "    </tr>\n",
       "    <tr>\n",
       "      <th>435</th>\n",
       "      <td>8099</td>\n",
       "      <td>zebra mussel</td>\n",
       "      <td>Minnesota</td>\n",
       "      <td>46.451390</td>\n",
       "      <td>-95.552640</td>\n",
       "      <td>2022</td>\n",
       "      <td>established</td>\n",
       "      <td>Accurate</td>\n",
       "      <td>1</td>\n",
       "      <td>POINT (-10636871.229 5852982.217)</td>\n",
       "      <td>118263.0</td>\n",
       "      <td>1.0</td>\n",
       "      <td>Buchanan Lake</td>\n",
       "    </tr>\n",
       "    <tr>\n",
       "      <th>436</th>\n",
       "      <td>8100</td>\n",
       "      <td>zebra mussel</td>\n",
       "      <td>Minnesota</td>\n",
       "      <td>45.203610</td>\n",
       "      <td>-95.034590</td>\n",
       "      <td>2022</td>\n",
       "      <td>established</td>\n",
       "      <td>Accurate</td>\n",
       "      <td>1</td>\n",
       "      <td>POINT (-10579202.167 5653632.872)</td>\n",
       "      <td>125070.0</td>\n",
       "      <td>2.0</td>\n",
       "      <td>Long Lake</td>\n",
       "    </tr>\n",
       "    <tr>\n",
       "      <th>437</th>\n",
       "      <td>8101</td>\n",
       "      <td>zebra mussel</td>\n",
       "      <td>Minnesota</td>\n",
       "      <td>46.646680</td>\n",
       "      <td>-94.230750</td>\n",
       "      <td>2022</td>\n",
       "      <td>established</td>\n",
       "      <td>Accurate</td>\n",
       "      <td>1</td>\n",
       "      <td>POINT (-10489719.107 5884592.741)</td>\n",
       "      <td>60649.0</td>\n",
       "      <td>1.0</td>\n",
       "      <td>Clear Lake</td>\n",
       "    </tr>\n",
       "    <tr>\n",
       "      <th>438</th>\n",
       "      <td>8104</td>\n",
       "      <td>zebra mussel</td>\n",
       "      <td>Minnesota</td>\n",
       "      <td>47.537470</td>\n",
       "      <td>-92.280930</td>\n",
       "      <td>2022</td>\n",
       "      <td>established</td>\n",
       "      <td>Accurate</td>\n",
       "      <td>1</td>\n",
       "      <td>POINT (-10272666.138 6030248.394)</td>\n",
       "      <td>69803.0</td>\n",
       "      <td>2.0</td>\n",
       "      <td>Embarrass Lake</td>\n",
       "    </tr>\n",
       "  </tbody>\n",
       "</table>\n",
       "<p>439 rows × 13 columns</p>\n",
       "</div>"
      ],
      "text/plain": [
       "     Unnamed: 0    commonname      state   latitude  longitude  year  \\\n",
       "0            23  zebra mussel  Minnesota  46.746272 -92.124095  1989   \n",
       "1           339  zebra mussel  Minnesota  43.993271 -91.443062  1992   \n",
       "2           340  zebra mussel  Minnesota  44.098076 -91.707748  1992   \n",
       "3           345  zebra mussel  Minnesota  44.160145 -91.810341  1992   \n",
       "4           357  zebra mussel  Minnesota  44.610962 -92.610870  1992   \n",
       "..          ...           ...        ...        ...        ...   ...   \n",
       "434        8097  zebra mussel  Minnesota  44.702140 -93.473200  2022   \n",
       "435        8099  zebra mussel  Minnesota  46.451390 -95.552640  2022   \n",
       "436        8100  zebra mussel  Minnesota  45.203610 -95.034590  2022   \n",
       "437        8101  zebra mussel  Minnesota  46.646680 -94.230750  2022   \n",
       "438        8104  zebra mussel  Minnesota  47.537470 -92.280930  2022   \n",
       "\n",
       "          status  accuracy  Present                           geometry  \\\n",
       "0    established  Accurate        1  POINT (-10255207.345 5900757.097)   \n",
       "1    established  Accurate        1  POINT (-10179395.079 5464400.895)   \n",
       "2    established  Accurate        1  POINT (-10208859.855 5480632.215)   \n",
       "3    established  Accurate        1  POINT (-10220280.396 5490258.500)   \n",
       "4    established  Accurate        1  POINT (-10309394.931 5560481.929)   \n",
       "..           ...       ...      ...                                ...   \n",
       "434  established  Accurate        1  POINT (-10405389.027 5574750.782)   \n",
       "435  established  Accurate        1  POINT (-10636871.229 5852982.217)   \n",
       "436  established  Accurate        1  POINT (-10579202.167 5653632.872)   \n",
       "437  established  Accurate        1  POINT (-10489719.107 5884592.741)   \n",
       "438  established  Accurate        1  POINT (-10272666.138 6030248.394)   \n",
       "\n",
       "     index_right  ramps       gnis_name  \n",
       "0        91696.0   27.0   Lake Superior  \n",
       "1       119168.0    3.0     Lake Winona  \n",
       "2        43558.0    2.0     Rileys Lake  \n",
       "3        43558.0    2.0     Rileys Lake  \n",
       "4        43916.0    1.0   Sturgeon Lake  \n",
       "..           ...    ...             ...  \n",
       "434      20066.0    1.0     Spring Lake  \n",
       "435     118263.0    1.0   Buchanan Lake  \n",
       "436     125070.0    2.0       Long Lake  \n",
       "437      60649.0    1.0      Clear Lake  \n",
       "438      69803.0    2.0  Embarrass Lake  \n",
       "\n",
       "[439 rows x 13 columns]"
      ]
     },
     "execution_count": 33,
     "metadata": {},
     "output_type": "execute_result"
    }
   ],
   "source": [
    "positive_lakes"
   ]
  },
  {
   "cell_type": "code",
   "execution_count": 34,
   "id": "587076dd",
   "metadata": {},
   "outputs": [],
   "source": [
    "positive_lakes2 = positive_lakes.drop_duplicates('gnis_name').rename(columns = {'index_right' : \"lake_ID\"})"
   ]
  },
  {
   "cell_type": "code",
   "execution_count": 35,
   "id": "89d6ed94",
   "metadata": {},
   "outputs": [],
   "source": [
    "pos_lakes = positive_lakes2[['lake_ID', 'ramps', 'Present']]"
   ]
  },
  {
   "cell_type": "code",
   "execution_count": 36,
   "id": "4958fbfe",
   "metadata": {},
   "outputs": [],
   "source": [
    "#create a list of the Lake IDs from positive lakes\n",
    "positive_lake_IDs = pos_lakes['lake_ID']"
   ]
  },
  {
   "cell_type": "code",
   "execution_count": 38,
   "id": "b9988923",
   "metadata": {},
   "outputs": [],
   "source": [
    "# This is for merging on index to get negative lakes\n",
    "ramps2 = pd.DataFrame(accesses_with_lakes_df.groupby(['lake_ID'], as_index=False).count())"
   ]
  },
  {
   "cell_type": "code",
   "execution_count": 40,
   "id": "7d321e67",
   "metadata": {},
   "outputs": [],
   "source": [
    "# get lakes not in positive_lake_IDs list\n",
    "neg_lakes = ramps2[~ramps2['lake_ID'].isin(positive_lake_IDs)]"
   ]
  },
  {
   "cell_type": "code",
   "execution_count": 41,
   "id": "6f60bfad",
   "metadata": {},
   "outputs": [
    {
     "name": "stderr",
     "output_type": "stream",
     "text": [
      "C:\\Users\\leifh\\AppData\\Local\\Temp\\ipykernel_6188\\1725012170.py:2: SettingWithCopyWarning: \n",
      "A value is trying to be set on a copy of a slice from a DataFrame.\n",
      "Try using .loc[row_indexer,col_indexer] = value instead\n",
      "\n",
      "See the caveats in the documentation: https://pandas.pydata.org/pandas-docs/stable/user_guide/indexing.html#returning-a-view-versus-a-copy\n",
      "  neg_lakes['Present'] = 0\n"
     ]
    }
   ],
   "source": [
    "# add Present Column with 0's\n",
    "neg_lakes['Present'] = 0"
   ]
  },
  {
   "cell_type": "code",
   "execution_count": 42,
   "id": "0244220f",
   "metadata": {},
   "outputs": [],
   "source": [
    "training_data = pd.concat([neg_lakes, pos_lakes])"
   ]
  },
  {
   "cell_type": "code",
   "execution_count": 49,
   "id": "5e5854fe",
   "metadata": {},
   "outputs": [],
   "source": [
    "my_model_data = training_data[['ramps', 'Present']].to_numpy()"
   ]
  },
  {
   "cell_type": "code",
   "execution_count": 50,
   "id": "2f2b35b5",
   "metadata": {},
   "outputs": [],
   "source": [
    "x_train, x_test, y_train, y_test = train_test_split(\n",
    "my_model_data[:,0].reshape(-1, 1), my_model_data[:,1], test_size=0.33, random_state=42)"
   ]
  },
  {
   "cell_type": "code",
   "execution_count": 51,
   "id": "12fe2205",
   "metadata": {},
   "outputs": [],
   "source": [
    "#Define Logistic Regression Model Variable\n",
    "logr = LogisticRegression()"
   ]
  },
  {
   "cell_type": "code",
   "execution_count": 52,
   "id": "0b02d85c",
   "metadata": {},
   "outputs": [
    {
     "data": {
      "text/html": [
       "<style>#sk-container-id-1 {color: black;background-color: white;}#sk-container-id-1 pre{padding: 0;}#sk-container-id-1 div.sk-toggleable {background-color: white;}#sk-container-id-1 label.sk-toggleable__label {cursor: pointer;display: block;width: 100%;margin-bottom: 0;padding: 0.3em;box-sizing: border-box;text-align: center;}#sk-container-id-1 label.sk-toggleable__label-arrow:before {content: \"▸\";float: left;margin-right: 0.25em;color: #696969;}#sk-container-id-1 label.sk-toggleable__label-arrow:hover:before {color: black;}#sk-container-id-1 div.sk-estimator:hover label.sk-toggleable__label-arrow:before {color: black;}#sk-container-id-1 div.sk-toggleable__content {max-height: 0;max-width: 0;overflow: hidden;text-align: left;background-color: #f0f8ff;}#sk-container-id-1 div.sk-toggleable__content pre {margin: 0.2em;color: black;border-radius: 0.25em;background-color: #f0f8ff;}#sk-container-id-1 input.sk-toggleable__control:checked~div.sk-toggleable__content {max-height: 200px;max-width: 100%;overflow: auto;}#sk-container-id-1 input.sk-toggleable__control:checked~label.sk-toggleable__label-arrow:before {content: \"▾\";}#sk-container-id-1 div.sk-estimator input.sk-toggleable__control:checked~label.sk-toggleable__label {background-color: #d4ebff;}#sk-container-id-1 div.sk-label input.sk-toggleable__control:checked~label.sk-toggleable__label {background-color: #d4ebff;}#sk-container-id-1 input.sk-hidden--visually {border: 0;clip: rect(1px 1px 1px 1px);clip: rect(1px, 1px, 1px, 1px);height: 1px;margin: -1px;overflow: hidden;padding: 0;position: absolute;width: 1px;}#sk-container-id-1 div.sk-estimator {font-family: monospace;background-color: #f0f8ff;border: 1px dotted black;border-radius: 0.25em;box-sizing: border-box;margin-bottom: 0.5em;}#sk-container-id-1 div.sk-estimator:hover {background-color: #d4ebff;}#sk-container-id-1 div.sk-parallel-item::after {content: \"\";width: 100%;border-bottom: 1px solid gray;flex-grow: 1;}#sk-container-id-1 div.sk-label:hover label.sk-toggleable__label {background-color: #d4ebff;}#sk-container-id-1 div.sk-serial::before {content: \"\";position: absolute;border-left: 1px solid gray;box-sizing: border-box;top: 0;bottom: 0;left: 50%;z-index: 0;}#sk-container-id-1 div.sk-serial {display: flex;flex-direction: column;align-items: center;background-color: white;padding-right: 0.2em;padding-left: 0.2em;position: relative;}#sk-container-id-1 div.sk-item {position: relative;z-index: 1;}#sk-container-id-1 div.sk-parallel {display: flex;align-items: stretch;justify-content: center;background-color: white;position: relative;}#sk-container-id-1 div.sk-item::before, #sk-container-id-1 div.sk-parallel-item::before {content: \"\";position: absolute;border-left: 1px solid gray;box-sizing: border-box;top: 0;bottom: 0;left: 50%;z-index: -1;}#sk-container-id-1 div.sk-parallel-item {display: flex;flex-direction: column;z-index: 1;position: relative;background-color: white;}#sk-container-id-1 div.sk-parallel-item:first-child::after {align-self: flex-end;width: 50%;}#sk-container-id-1 div.sk-parallel-item:last-child::after {align-self: flex-start;width: 50%;}#sk-container-id-1 div.sk-parallel-item:only-child::after {width: 0;}#sk-container-id-1 div.sk-dashed-wrapped {border: 1px dashed gray;margin: 0 0.4em 0.5em 0.4em;box-sizing: border-box;padding-bottom: 0.4em;background-color: white;}#sk-container-id-1 div.sk-label label {font-family: monospace;font-weight: bold;display: inline-block;line-height: 1.2em;}#sk-container-id-1 div.sk-label-container {text-align: center;}#sk-container-id-1 div.sk-container {/* jupyter's `normalize.less` sets `[hidden] { display: none; }` but bootstrap.min.css set `[hidden] { display: none !important; }` so we also need the `!important` here to be able to override the default hidden behavior on the sphinx rendered scikit-learn.org. See: https://github.com/scikit-learn/scikit-learn/issues/21755 */display: inline-block !important;position: relative;}#sk-container-id-1 div.sk-text-repr-fallback {display: none;}</style><div id=\"sk-container-id-1\" class=\"sk-top-container\"><div class=\"sk-text-repr-fallback\"><pre>LogisticRegression()</pre><b>In a Jupyter environment, please rerun this cell to show the HTML representation or trust the notebook. <br />On GitHub, the HTML representation is unable to render, please try loading this page with nbviewer.org.</b></div><div class=\"sk-container\" hidden><div class=\"sk-item\"><div class=\"sk-estimator sk-toggleable\"><input class=\"sk-toggleable__control sk-hidden--visually\" id=\"sk-estimator-id-1\" type=\"checkbox\" checked><label for=\"sk-estimator-id-1\" class=\"sk-toggleable__label sk-toggleable__label-arrow\">LogisticRegression</label><div class=\"sk-toggleable__content\"><pre>LogisticRegression()</pre></div></div></div></div></div>"
      ],
      "text/plain": [
       "LogisticRegression()"
      ]
     },
     "execution_count": 52,
     "metadata": {},
     "output_type": "execute_result"
    }
   ],
   "source": [
    "# Fit model to training data\n",
    "logr.fit(x_train, y_train)"
   ]
  },
  {
   "cell_type": "code",
   "execution_count": 53,
   "id": "e39cd238",
   "metadata": {},
   "outputs": [
    {
     "data": {
      "text/plain": [
       "<AxesSubplot: >"
      ]
     },
     "execution_count": 53,
     "metadata": {},
     "output_type": "execute_result"
    },
    {
     "data": {
      "image/png": "[encoded data removed]",
      "text/plain": [
       "<Figure size 640x480 with 1 Axes>"
      ]
     },
     "metadata": {},
     "output_type": "display_data"
    }
   ],
   "source": [
    "# Visualize regression plot.\n",
    "sns.regplot(x=x_train, y=y_train, data= training_data, logistic=True)"
   ]
  },
  {
   "cell_type": "code",
   "execution_count": 54,
   "id": "bae0285a",
   "metadata": {},
   "outputs": [],
   "source": [
    "predictions = logr.predict(x_test)"
   ]
  },
  {
   "cell_type": "code",
   "execution_count": 55,
   "id": "783ad7c0",
   "metadata": {},
   "outputs": [
    {
     "name": "stdout",
     "output_type": "stream",
     "text": [
      "0.8804347826086957\n"
     ]
    }
   ],
   "source": [
    "score = logr.score(x_test, y_test)\n",
    "print(score)"
   ]
  },
  {
   "cell_type": "code",
   "execution_count": 56,
   "id": "9a125b6d",
   "metadata": {},
   "outputs": [],
   "source": [
    "import matplotlib.pyplot as plt\n",
    "from sklearn import metrics"
   ]
  },
  {
   "cell_type": "code",
   "execution_count": 57,
   "id": "10dd1e86",
   "metadata": {},
   "outputs": [
    {
     "name": "stdout",
     "output_type": "stream",
     "text": [
      "[[404   0]\n",
      " [ 55   1]]\n"
     ]
    }
   ],
   "source": [
    "cm = metrics.confusion_matrix(y_test, predictions)\n",
    "print(cm)"
   ]
  },
  {
   "cell_type": "code",
   "execution_count": 58,
   "id": "f331aa08",
   "metadata": {},
   "outputs": [
    {
     "data": {
      "image/png": "[encoded data removed]",
      "text/plain": [
       "<Figure size 900x900 with 2 Axes>"
      ]
     },
     "metadata": {},
     "output_type": "display_data"
    }
   ],
   "source": [
    "plt.figure(figsize=(9,9))\n",
    "sns.heatmap(cm, annot=True, fmt=\".3f\", linewidths=.5, square = True, cmap = 'Blues_r');\n",
    "plt.ylabel('Actual label');\n",
    "plt.xlabel('Predicted label');\n",
    "all_sample_title = 'Accuracy Score: {0}'.format(score)\n",
    "plt.title(all_sample_title, size = 15);"
   ]
  },
  {
   "cell_type": "code",
   "execution_count": null,
   "id": "34141d2b",
   "metadata": {},
   "outputs": [],
   "source": []
  },
  {
   "cell_type": "code",
   "execution_count": null,
   "id": "7a8b01b6",
   "metadata": {},
   "outputs": [],
   "source": []
  },
  {
   "cell_type": "code",
   "execution_count": null,
   "id": "bfa88664",
   "metadata": {},
   "outputs": [],
   "source": []
  },
  {
   "cell_type": "code",
   "execution_count": null,
   "id": "f5538b10",
   "metadata": {},
   "outputs": [],
   "source": []
  },
  {
   "cell_type": "code",
   "execution_count": null,
   "id": "90d5b368",
   "metadata": {},
   "outputs": [],
   "source": [
    "# How does liklihood of invasion increase with an increase in ramps?\n",
    "log_odds = logr.coef_\n",
    "odds = np.exp(log_odds)\n",
    "print(odds)"
   ]
  },
  {
   "cell_type": "code",
   "execution_count": null,
   "id": "d085e095",
   "metadata": {},
   "outputs": [],
   "source": [
    "# Check accuracy score\n",
    "logr.score(x_train,y_train)"
   ]
  },
  {
   "cell_type": "code",
   "execution_count": null,
   "id": "3e8a96f4",
   "metadata": {},
   "outputs": [],
   "source": [
    "# create test array\n",
    "my_test = np.arange(0.0, 100.0 , 1).reshape(-1, 1)"
   ]
  },
  {
   "cell_type": "code",
   "execution_count": null,
   "id": "f05b2bdf",
   "metadata": {},
   "outputs": [],
   "source": [
    "# Use model to predict test data\n",
    "logr.predict_proba(my_test)"
   ]
  },
  {
   "cell_type": "code",
   "execution_count": null,
   "id": "99637353",
   "metadata": {},
   "outputs": [],
   "source": []
  }
 ],
 "metadata": {
  "kernelspec": {
   "display_name": "Python 3 (ipykernel)",
   "language": "python",
   "name": "python3"
  },
  "language_info": {
   "codemirror_mode": {
    "name": "ipython",
    "version": 3
   },
   "file_extension": ".py",
   "mimetype": "text/x-python",
   "name": "python",
   "nbconvert_exporter": "python",
   "pygments_lexer": "ipython3",
   "version": "3.11.0"
  }
 },
 "nbformat": 4,
 "nbformat_minor": 5
}
